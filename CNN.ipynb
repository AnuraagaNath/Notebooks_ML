{
 "cells": [
  {
   "cell_type": "code",
   "execution_count": 1,
   "metadata": {},
   "outputs": [
    {
     "name": "stderr",
     "output_type": "stream",
     "text": [
      "2024-04-03 11:49:59.399286: I tensorflow/core/util/port.cc:113] oneDNN custom operations are on. You may see slightly different numerical results due to floating-point round-off errors from different computation orders. To turn them off, set the environment variable `TF_ENABLE_ONEDNN_OPTS=0`.\n",
      "2024-04-03 11:49:59.421527: E external/local_xla/xla/stream_executor/cuda/cuda_dnn.cc:9261] Unable to register cuDNN factory: Attempting to register factory for plugin cuDNN when one has already been registered\n",
      "2024-04-03 11:49:59.421550: E external/local_xla/xla/stream_executor/cuda/cuda_fft.cc:607] Unable to register cuFFT factory: Attempting to register factory for plugin cuFFT when one has already been registered\n",
      "2024-04-03 11:49:59.422254: E external/local_xla/xla/stream_executor/cuda/cuda_blas.cc:1515] Unable to register cuBLAS factory: Attempting to register factory for plugin cuBLAS when one has already been registered\n",
      "2024-04-03 11:49:59.426090: I tensorflow/core/platform/cpu_feature_guard.cc:182] This TensorFlow binary is optimized to use available CPU instructions in performance-critical operations.\n",
      "To enable the following instructions: AVX2 AVX_VNNI FMA, in other operations, rebuild TensorFlow with the appropriate compiler flags.\n",
      "2024-04-03 11:49:59.805398: W tensorflow/compiler/tf2tensorrt/utils/py_utils.cc:38] TF-TRT Warning: Could not find TensorRT\n",
      "/usr/lib/python3/dist-packages/scipy/__init__.py:146: UserWarning: A NumPy version >=1.17.3 and <1.25.0 is required for this version of SciPy (detected version 1.26.0\n",
      "  warnings.warn(f\"A NumPy version >={np_minversion} and <{np_maxversion}\"\n"
     ]
    }
   ],
   "source": [
    "from tensorflow import keras\n",
    "from PIL import Image\n",
    "import matplotlib.pyplot as plt\n",
    "import numpy as np"
   ]
  },
  {
   "cell_type": "code",
   "execution_count": 2,
   "metadata": {},
   "outputs": [],
   "source": [
    "(X_train, y_train), (X_test, y_test) = keras.datasets.mnist.load_data()"
   ]
  },
  {
   "cell_type": "code",
   "execution_count": 3,
   "metadata": {},
   "outputs": [
    {
     "data": {
      "text/plain": [
       "((60000, 28, 28), (60000,), (10000, 28, 28), (10000,))"
      ]
     },
     "execution_count": 3,
     "metadata": {},
     "output_type": "execute_result"
    }
   ],
   "source": [
    "X_train.shape, y_train.shape, X_test.shape, y_test.shape"
   ]
  },
  {
   "cell_type": "code",
   "execution_count": 4,
   "metadata": {},
   "outputs": [
    {
     "data": {
      "image/png": "[encoded data removed]",
      "text/plain": [
       "<Figure size 288x216 with 1 Axes>"
      ]
     },
     "metadata": {
      "needs_background": "light"
     },
     "output_type": "display_data"
    },
    {
     "data": {
      "image/png": "[encoded data removed]",
      "text/plain": [
       "<Figure size 288x216 with 1 Axes>"
      ]
     },
     "metadata": {
      "needs_background": "light"
     },
     "output_type": "display_data"
    },
    {
     "data": {
      "image/png": "[encoded data removed]",
      "text/plain": [
       "<Figure size 288x216 with 1 Axes>"
      ]
     },
     "metadata": {
      "needs_background": "light"
     },
     "output_type": "display_data"
    },
    {
     "data": {
      "image/png": "[encoded data removed]",
      "text/plain": [
       "<Figure size 288x216 with 1 Axes>"
      ]
     },
     "metadata": {
      "needs_background": "light"
     },
     "output_type": "display_data"
    },
    {
     "data": {
      "image/png": "[encoded data removed]",
      "text/plain": [
       "<Figure size 288x216 with 1 Axes>"
      ]
     },
     "metadata": {
      "needs_background": "light"
     },
     "output_type": "display_data"
    },
    {
     "data": {
      "image/png": "[encoded data removed]",
      "text/plain": [
       "<Figure size 288x216 with 1 Axes>"
      ]
     },
     "metadata": {
      "needs_background": "light"
     },
     "output_type": "display_data"
    },
    {
     "data": {
      "image/png": "[encoded data removed]",
      "text/plain": [
       "<Figure size 288x216 with 1 Axes>"
      ]
     },
     "metadata": {
      "needs_background": "light"
     },
     "output_type": "display_data"
    },
    {
     "data": {
      "image/png": "[encoded data removed]",
      "text/plain": [
       "<Figure size 288x216 with 1 Axes>"
      ]
     },
     "metadata": {
      "needs_background": "light"
     },
     "output_type": "display_data"
    },
    {
     "data": {
      "image/png": "[encoded data removed]",
      "text/plain": [
       "<Figure size 288x216 with 1 Axes>"
      ]
     },
     "metadata": {
      "needs_background": "light"
     },
     "output_type": "display_data"
    },
    {
     "data": {
      "image/png": "[encoded data removed]",
      "text/plain": [
       "<Figure size 288x216 with 1 Axes>"
      ]
     },
     "metadata": {
      "needs_background": "light"
     },
     "output_type": "display_data"
    }
   ],
   "source": [
    "i, k = 0, 0\n",
    "while k < 10:\n",
    "    if y_train[i] == k:\n",
    "        plt.figure(figsize=(4, 3))\n",
    "        plt.imshow(X_train[i], cmap='gray')\n",
    "        plt.axis('off')\n",
    "        plt.title(y_train[i])\n",
    "        k += 1\n",
    "        i += 1\n",
    "        plt.show()\n",
    "    else:\n",
    "        i += 1"
   ]
  },
  {
   "cell_type": "code",
   "execution_count": 5,
   "metadata": {},
   "outputs": [],
   "source": [
    "# X_train = X_train[:5000]\n",
    "# X_test = X_test[:5000]\n",
    "# y_train = y_train[:5000]\n",
    "# y_test = y_test[:5000]"
   ]
  },
  {
   "cell_type": "code",
   "execution_count": 6,
   "metadata": {},
   "outputs": [],
   "source": [
    "X_train = X_train/255.0\n",
    "X_test = X_test/255.0"
   ]
  },
  {
   "cell_type": "code",
   "execution_count": 7,
   "metadata": {},
   "outputs": [],
   "source": [
    "X_train = X_train.reshape(X_train.shape[0], X_train.shape[1], X_train.shape[2], 1) \n",
    "X_test= X_test.reshape(X_test.shape[0], X_test.shape[1], X_test.shape[2], 1) \n",
    "y_train = keras.utils.to_categorical(y_train, 10)\n",
    "y_test = keras.utils.to_categorical(y_test, 10)"
   ]
  },
  {
   "cell_type": "code",
   "execution_count": 8,
   "metadata": {},
   "outputs": [
    {
     "data": {
      "text/plain": [
       "(60000, 28, 28, 1)"
      ]
     },
     "execution_count": 8,
     "metadata": {},
     "output_type": "execute_result"
    }
   ],
   "source": [
    "X_train.shape"
   ]
  },
  {
   "cell_type": "code",
   "execution_count": 9,
   "metadata": {},
   "outputs": [
    {
     "name": "stderr",
     "output_type": "stream",
     "text": [
      "2024-04-03 11:50:01.090268: I external/local_xla/xla/stream_executor/cuda/cuda_executor.cc:901] successful NUMA node read from SysFS had negative value (-1), but there must be at least one NUMA node, so returning NUMA node zero. See more at https://github.com/torvalds/linux/blob/v6.0/Documentation/ABI/testing/sysfs-bus-pci#L344-L355\n",
      "2024-04-03 11:50:01.116275: I external/local_xla/xla/stream_executor/cuda/cuda_executor.cc:901] successful NUMA node read from SysFS had negative value (-1), but there must be at least one NUMA node, so returning NUMA node zero. See more at https://github.com/torvalds/linux/blob/v6.0/Documentation/ABI/testing/sysfs-bus-pci#L344-L355\n",
      "2024-04-03 11:50:01.116390: I external/local_xla/xla/stream_executor/cuda/cuda_executor.cc:901] successful NUMA node read from SysFS had negative value (-1), but there must be at least one NUMA node, so returning NUMA node zero. See more at https://github.com/torvalds/linux/blob/v6.0/Documentation/ABI/testing/sysfs-bus-pci#L344-L355\n",
      "2024-04-03 11:50:01.117188: I external/local_xla/xla/stream_executor/cuda/cuda_executor.cc:901] successful NUMA node read from SysFS had negative value (-1), but there must be at least one NUMA node, so returning NUMA node zero. See more at https://github.com/torvalds/linux/blob/v6.0/Documentation/ABI/testing/sysfs-bus-pci#L344-L355\n",
      "2024-04-03 11:50:01.117262: I external/local_xla/xla/stream_executor/cuda/cuda_executor.cc:901] successful NUMA node read from SysFS had negative value (-1), but there must be at least one NUMA node, so returning NUMA node zero. See more at https://github.com/torvalds/linux/blob/v6.0/Documentation/ABI/testing/sysfs-bus-pci#L344-L355\n",
      "2024-04-03 11:50:01.117306: I external/local_xla/xla/stream_executor/cuda/cuda_executor.cc:901] successful NUMA node read from SysFS had negative value (-1), but there must be at least one NUMA node, so returning NUMA node zero. See more at https://github.com/torvalds/linux/blob/v6.0/Documentation/ABI/testing/sysfs-bus-pci#L344-L355\n",
      "2024-04-03 11:50:01.168670: I external/local_xla/xla/stream_executor/cuda/cuda_executor.cc:901] successful NUMA node read from SysFS had negative value (-1), but there must be at least one NUMA node, so returning NUMA node zero. See more at https://github.com/torvalds/linux/blob/v6.0/Documentation/ABI/testing/sysfs-bus-pci#L344-L355\n",
      "2024-04-03 11:50:01.168776: I external/local_xla/xla/stream_executor/cuda/cuda_executor.cc:901] successful NUMA node read from SysFS had negative value (-1), but there must be at least one NUMA node, so returning NUMA node zero. See more at https://github.com/torvalds/linux/blob/v6.0/Documentation/ABI/testing/sysfs-bus-pci#L344-L355\n",
      "2024-04-03 11:50:01.168833: I external/local_xla/xla/stream_executor/cuda/cuda_executor.cc:901] successful NUMA node read from SysFS had negative value (-1), but there must be at least one NUMA node, so returning NUMA node zero. See more at https://github.com/torvalds/linux/blob/v6.0/Documentation/ABI/testing/sysfs-bus-pci#L344-L355\n",
      "2024-04-03 11:50:01.168876: I tensorflow/core/common_runtime/gpu/gpu_device.cc:1929] Created device /job:localhost/replica:0/task:0/device:GPU:0 with 4798 MB memory:  -> device: 0, name: NVIDIA GeForce RTX 3070 Ti, pci bus id: 0000:01:00.0, compute capability: 8.6\n",
      "2024-04-03 11:50:01.394905: I external/local_xla/xla/stream_executor/cuda/cuda_dnn.cc:454] Loaded cuDNN version 8907\n"
     ]
    },
    {
     "name": "stdout",
     "output_type": "stream",
     "text": [
      "Epoch 1/50\n"
     ]
    },
    {
     "name": "stderr",
     "output_type": "stream",
     "text": [
      "2024-04-03 11:50:02.713334: I external/local_xla/xla/service/service.cc:168] XLA service 0x7f2ef5445ab0 initialized for platform CUDA (this does not guarantee that XLA will be used). Devices:\n",
      "2024-04-03 11:50:02.713356: I external/local_xla/xla/service/service.cc:176]   StreamExecutor device (0): NVIDIA GeForce RTX 3070 Ti, Compute Capability 8.6\n",
      "2024-04-03 11:50:02.716848: I tensorflow/compiler/mlir/tensorflow/utils/dump_mlir_util.cc:269] disabling MLIR crash reproducer, set env var `MLIR_CRASH_REPRODUCER_DIRECTORY` to enable.\n",
      "WARNING: All log messages before absl::InitializeLog() is called are written to STDERR\n",
      "I0000 00:00:1712125202.771596 2878470 device_compiler.h:186] Compiled cluster using XLA!  This line is logged at most once for the lifetime of the process.\n"
     ]
    },
    {
     "name": "stdout",
     "output_type": "stream",
     "text": [
      "1500/1500 [==============================] - 8s 4ms/step - loss: 0.2031 - accuracy: 0.9394 - val_loss: 0.1000 - val_accuracy: 0.9688 - lr: 0.0010\n",
      "Epoch 2/50\n",
      "1500/1500 [==============================] - 6s 4ms/step - loss: 0.0884 - accuracy: 0.9730 - val_loss: 0.0689 - val_accuracy: 0.9787 - lr: 0.0010\n",
      "Epoch 3/50\n",
      "1500/1500 [==============================] - 6s 4ms/step - loss: 0.0728 - accuracy: 0.9781 - val_loss: 0.1066 - val_accuracy: 0.9697 - lr: 0.0010\n",
      "Epoch 4/50\n",
      "1500/1500 [==============================] - 6s 4ms/step - loss: 0.0644 - accuracy: 0.9807 - val_loss: 0.0657 - val_accuracy: 0.9790 - lr: 0.0010\n",
      "Epoch 5/50\n",
      "1500/1500 [==============================] - 6s 4ms/step - loss: 0.0542 - accuracy: 0.9835 - val_loss: 0.0592 - val_accuracy: 0.9812 - lr: 0.0010\n",
      "Epoch 6/50\n",
      "1500/1500 [==============================] - 6s 4ms/step - loss: 0.0518 - accuracy: 0.9843 - val_loss: 0.0539 - val_accuracy: 0.9834 - lr: 0.0010\n",
      "Epoch 7/50\n",
      "1500/1500 [==============================] - 6s 4ms/step - loss: 0.0478 - accuracy: 0.9845 - val_loss: 0.0499 - val_accuracy: 0.9860 - lr: 0.0010\n",
      "Epoch 8/50\n",
      "1500/1500 [==============================] - 6s 4ms/step - loss: 0.0456 - accuracy: 0.9863 - val_loss: 0.0452 - val_accuracy: 0.9856 - lr: 0.0010\n",
      "Epoch 9/50\n",
      "1500/1500 [==============================] - 6s 4ms/step - loss: 0.0425 - accuracy: 0.9867 - val_loss: 0.0390 - val_accuracy: 0.9880 - lr: 0.0010\n",
      "Epoch 10/50\n",
      "1500/1500 [==============================] - 6s 4ms/step - loss: 0.0409 - accuracy: 0.9871 - val_loss: 0.0356 - val_accuracy: 0.9887 - lr: 0.0010\n",
      "Epoch 11/50\n",
      "1500/1500 [==============================] - 6s 4ms/step - loss: 0.0377 - accuracy: 0.9883 - val_loss: 0.0460 - val_accuracy: 0.9869 - lr: 0.0010\n",
      "Epoch 12/50\n",
      "1500/1500 [==============================] - 6s 4ms/step - loss: 0.0366 - accuracy: 0.9888 - val_loss: 0.0402 - val_accuracy: 0.9881 - lr: 0.0010\n",
      "Epoch 13/50\n",
      "1494/1500 [============================>.] - ETA: 0s - loss: 0.0346 - accuracy: 0.9893\n",
      "Epoch 13: ReduceLROnPlateau reducing learning rate to 0.0005000000237487257.\n",
      "1500/1500 [==============================] - 6s 4ms/step - loss: 0.0345 - accuracy: 0.9894 - val_loss: 0.0398 - val_accuracy: 0.9879 - lr: 0.0010\n",
      "Epoch 14/50\n",
      "1500/1500 [==============================] - 6s 4ms/step - loss: 0.0284 - accuracy: 0.9909 - val_loss: 0.0267 - val_accuracy: 0.9928 - lr: 5.0000e-04\n",
      "Epoch 15/50\n",
      "1500/1500 [==============================] - 6s 4ms/step - loss: 0.0248 - accuracy: 0.9924 - val_loss: 0.0300 - val_accuracy: 0.9909 - lr: 5.0000e-04\n",
      "Epoch 16/50\n",
      "1500/1500 [==============================] - 6s 4ms/step - loss: 0.0258 - accuracy: 0.9923 - val_loss: 0.0278 - val_accuracy: 0.9920 - lr: 5.0000e-04\n",
      "Epoch 17/50\n",
      "1499/1500 [============================>.] - ETA: 0s - loss: 0.0242 - accuracy: 0.9924\n",
      "Epoch 17: ReduceLROnPlateau reducing learning rate to 0.0002500000118743628.\n",
      "1500/1500 [==============================] - 6s 4ms/step - loss: 0.0241 - accuracy: 0.9924 - val_loss: 0.0292 - val_accuracy: 0.9914 - lr: 5.0000e-04\n",
      "Epoch 18/50\n",
      "1500/1500 [==============================] - 6s 4ms/step - loss: 0.0218 - accuracy: 0.9933 - val_loss: 0.0241 - val_accuracy: 0.9936 - lr: 2.5000e-04\n",
      "Epoch 19/50\n",
      "1500/1500 [==============================] - 6s 4ms/step - loss: 0.0194 - accuracy: 0.9944 - val_loss: 0.0257 - val_accuracy: 0.9916 - lr: 2.5000e-04\n",
      "Epoch 20/50\n",
      "1500/1500 [==============================] - 6s 4ms/step - loss: 0.0201 - accuracy: 0.9941 - val_loss: 0.0239 - val_accuracy: 0.9928 - lr: 2.5000e-04\n",
      "Epoch 21/50\n",
      "1493/1500 [============================>.] - ETA: 0s - loss: 0.0204 - accuracy: 0.9939\n",
      "Epoch 21: ReduceLROnPlateau reducing learning rate to 0.0001250000059371814.\n",
      "1500/1500 [==============================] - 6s 4ms/step - loss: 0.0203 - accuracy: 0.9939 - val_loss: 0.0249 - val_accuracy: 0.9923 - lr: 2.5000e-04\n",
      "Epoch 22/50\n",
      "1500/1500 [==============================] - 6s 4ms/step - loss: 0.0175 - accuracy: 0.9948 - val_loss: 0.0220 - val_accuracy: 0.9937 - lr: 1.2500e-04\n",
      "Epoch 23/50\n",
      "1500/1500 [==============================] - 6s 4ms/step - loss: 0.0167 - accuracy: 0.9949 - val_loss: 0.0241 - val_accuracy: 0.9927 - lr: 1.2500e-04\n",
      "Epoch 24/50\n",
      "1500/1500 [==============================] - ETA: 0s - loss: 0.0171 - accuracy: 0.9945\n",
      "Epoch 24: ReduceLROnPlateau reducing learning rate to 6.25000029685907e-05.\n",
      "1500/1500 [==============================] - 6s 4ms/step - loss: 0.0171 - accuracy: 0.9945 - val_loss: 0.0233 - val_accuracy: 0.9933 - lr: 1.2500e-04\n",
      "Epoch 25/50\n",
      "1500/1500 [==============================] - 6s 4ms/step - loss: 0.0156 - accuracy: 0.9953 - val_loss: 0.0245 - val_accuracy: 0.9932 - lr: 6.2500e-05\n",
      "Epoch 26/50\n",
      "1500/1500 [==============================] - 6s 4ms/step - loss: 0.0142 - accuracy: 0.9954 - val_loss: 0.0225 - val_accuracy: 0.9939 - lr: 6.2500e-05\n",
      "Epoch 27/50\n",
      "1500/1500 [==============================] - 6s 4ms/step - loss: 0.0147 - accuracy: 0.9951 - val_loss: 0.0241 - val_accuracy: 0.9933 - lr: 6.2500e-05\n",
      "Epoch 28/50\n",
      "1500/1500 [==============================] - 6s 4ms/step - loss: 0.0148 - accuracy: 0.9956 - val_loss: 0.0213 - val_accuracy: 0.9937 - lr: 6.2500e-05\n",
      "Epoch 29/50\n",
      "1488/1500 [============================>.] - ETA: 0s - loss: 0.0159 - accuracy: 0.9951\n",
      "Epoch 29: ReduceLROnPlateau reducing learning rate to 3.125000148429535e-05.\n",
      "1500/1500 [==============================] - 6s 4ms/step - loss: 0.0159 - accuracy: 0.9951 - val_loss: 0.0218 - val_accuracy: 0.9931 - lr: 6.2500e-05\n",
      "Epoch 30/50\n",
      "1500/1500 [==============================] - 6s 4ms/step - loss: 0.0160 - accuracy: 0.9951 - val_loss: 0.0214 - val_accuracy: 0.9949 - lr: 3.1250e-05\n",
      "Epoch 31/50\n",
      "1500/1500 [==============================] - 6s 4ms/step - loss: 0.0138 - accuracy: 0.9957 - val_loss: 0.0228 - val_accuracy: 0.9940 - lr: 3.1250e-05\n",
      "Epoch 32/50\n",
      "1500/1500 [==============================] - 6s 4ms/step - loss: 0.0155 - accuracy: 0.9952 - val_loss: 0.0240 - val_accuracy: 0.9937 - lr: 3.1250e-05\n",
      "Epoch 33/50\n",
      "1494/1500 [============================>.] - ETA: 0s - loss: 0.0141 - accuracy: 0.9957\n",
      "Epoch 33: ReduceLROnPlateau reducing learning rate to 1.5625000742147677e-05.\n",
      "1500/1500 [==============================] - 6s 4ms/step - loss: 0.0140 - accuracy: 0.9957 - val_loss: 0.0240 - val_accuracy: 0.9927 - lr: 3.1250e-05\n",
      "Epoch 34/50\n",
      "1500/1500 [==============================] - 6s 4ms/step - loss: 0.0136 - accuracy: 0.9960 - val_loss: 0.0202 - val_accuracy: 0.9938 - lr: 1.5625e-05\n",
      "Epoch 35/50\n",
      "1500/1500 [==============================] - 6s 4ms/step - loss: 0.0138 - accuracy: 0.9955 - val_loss: 0.0226 - val_accuracy: 0.9939 - lr: 1.5625e-05\n",
      "Epoch 36/50\n",
      "1499/1500 [============================>.] - ETA: 0s - loss: 0.0137 - accuracy: 0.9956\n",
      "Epoch 36: ReduceLROnPlateau reducing learning rate to 7.812500371073838e-06.\n",
      "1500/1500 [==============================] - 6s 4ms/step - loss: 0.0137 - accuracy: 0.9956 - val_loss: 0.0228 - val_accuracy: 0.9937 - lr: 1.5625e-05\n",
      "Epoch 37/50\n",
      "1500/1500 [==============================] - 6s 4ms/step - loss: 0.0138 - accuracy: 0.9958 - val_loss: 0.0233 - val_accuracy: 0.9935 - lr: 7.8125e-06\n",
      "Epoch 38/50\n",
      "1500/1500 [==============================] - 6s 4ms/step - loss: 0.0132 - accuracy: 0.9960 - val_loss: 0.0209 - val_accuracy: 0.9940 - lr: 7.8125e-06\n",
      "Epoch 39/50\n",
      "1493/1500 [============================>.] - ETA: 0s - loss: 0.0149 - accuracy: 0.9952\n",
      "Epoch 39: ReduceLROnPlateau reducing learning rate to 3.906250185536919e-06.\n",
      "1500/1500 [==============================] - 6s 4ms/step - loss: 0.0149 - accuracy: 0.9952 - val_loss: 0.0178 - val_accuracy: 0.9948 - lr: 7.8125e-06\n",
      "Epoch 40/50\n",
      "1500/1500 [==============================] - 6s 4ms/step - loss: 0.0130 - accuracy: 0.9960 - val_loss: 0.0203 - val_accuracy: 0.9942 - lr: 3.9063e-06\n",
      "Epoch 41/50\n",
      "1500/1500 [==============================] - 6s 4ms/step - loss: 0.0144 - accuracy: 0.9956 - val_loss: 0.0206 - val_accuracy: 0.9948 - lr: 3.9063e-06\n",
      "Epoch 42/50\n",
      "1486/1500 [============================>.] - ETA: 0s - loss: 0.0140 - accuracy: 0.9960\n",
      "Epoch 42: ReduceLROnPlateau reducing learning rate to 1.9531250927684596e-06.\n",
      "1500/1500 [==============================] - 6s 4ms/step - loss: 0.0140 - accuracy: 0.9959 - val_loss: 0.0220 - val_accuracy: 0.9945 - lr: 3.9063e-06\n",
      "Epoch 43/50\n",
      "1500/1500 [==============================] - 6s 4ms/step - loss: 0.0141 - accuracy: 0.9955 - val_loss: 0.0218 - val_accuracy: 0.9936 - lr: 1.9531e-06\n",
      "Epoch 44/50\n",
      "1500/1500 [==============================] - 6s 4ms/step - loss: 0.0138 - accuracy: 0.9957 - val_loss: 0.0240 - val_accuracy: 0.9932 - lr: 1.9531e-06\n",
      "Epoch 45/50\n",
      "1488/1500 [============================>.] - ETA: 0s - loss: 0.0128 - accuracy: 0.9960\n",
      "Epoch 45: ReduceLROnPlateau reducing learning rate to 1e-06.\n",
      "1500/1500 [==============================] - 6s 4ms/step - loss: 0.0127 - accuracy: 0.9961 - val_loss: 0.0224 - val_accuracy: 0.9938 - lr: 1.9531e-06\n",
      "Epoch 46/50\n",
      "1500/1500 [==============================] - 6s 4ms/step - loss: 0.0146 - accuracy: 0.9955 - val_loss: 0.0199 - val_accuracy: 0.9945 - lr: 1.0000e-06\n"
     ]
    }
   ],
   "source": [
    "# Data augmentation\n",
    "datagen = keras.preprocessing.image.ImageDataGenerator(\n",
    "    rotation_range=5,\n",
    "    zoom_range = 0.1,\n",
    "    width_shift_range=0.1,\n",
    "    height_shift_range=0.1,\n",
    "    validation_split=0.2\n",
    ")\n",
    "\n",
    "# Model\n",
    "model = keras.models.Sequential([\n",
    "    keras.layers.Conv2D(64, kernel_size=(3, 3), activation='relu'),\n",
    "    keras.layers.BatchNormalization(),\n",
    "    keras.layers.MaxPooling2D(pool_size=(2, 2)),\n",
    "    \n",
    "    keras.layers.Conv2D(128, kernel_size=(3, 3), activation='relu'),\n",
    "    keras.layers.BatchNormalization(),\n",
    "    keras.layers.MaxPooling2D(pool_size=(2, 2)),\n",
    "    \n",
    "    keras.layers.Flatten(),\n",
    "    \n",
    "    keras.layers.Dense(64, activation='relu'),\n",
    "    keras.layers.BatchNormalization(),\n",
    "    keras.layers.Dropout(0.1),\n",
    "    \n",
    "    keras.layers.Dense(10, activation='softmax')    \n",
    "])\n",
    "\n",
    "# Learning rate reduction\n",
    "learning_rate_reduction = keras.callbacks.ReduceLROnPlateau(monitor='val_accuracy', patience=3, verbose=1, factor=0.5, min_lr=0.000001)\n",
    "\n",
    "# Early stopping\n",
    "early_stopping = keras.callbacks.EarlyStopping(monitor='val_loss', patience=7, mode='min')\n",
    "\n",
    "# Compile the model\n",
    "model.compile(optimizer='adam', loss='categorical_crossentropy', metrics=['accuracy'])\n",
    "\n",
    "# Fit the model\n",
    "history = model.fit(datagen.flow(X_train, y_train, batch_size=32, subset='training'),\n",
    "                    epochs = 50, validation_data = datagen.flow(X_train, y_train, batch_size=32, subset='validation'),\n",
    "                    callbacks=[learning_rate_reduction, early_stopping])\n"
   ]
  },
  {
   "cell_type": "code",
   "execution_count": 10,
   "metadata": {},
   "outputs": [
    {
     "data": {
      "image/png": "[encoded data removed]",
      "text/plain": [
       "<Figure size 1440x720 with 1 Axes>"
      ]
     },
     "metadata": {
      "needs_background": "light"
     },
     "output_type": "display_data"
    }
   ],
   "source": [
    "plt.figure(figsize=(20,10))\n",
    "for k, v in history.history.items():\n",
    "    plt.plot(v, label=k)\n",
    "plt.gca().set_ylim(0,1)\n",
    "plt.xlabel('Epochs')\n",
    "plt.legend()\n",
    "plt.show()"
   ]
  },
  {
   "cell_type": "code",
   "execution_count": 11,
   "metadata": {},
   "outputs": [
    {
     "name": "stdout",
     "output_type": "stream",
     "text": [
      "313/313 [==============================] - 1s 2ms/step - loss: 0.0142 - accuracy: 0.9956\n",
      "Test Loss:  0.014243950136005878\n",
      "Test Accuracy:  0.9955999851226807\n"
     ]
    }
   ],
   "source": [
    "test_loss, test_acc = model.evaluate(X_test, y_test)\n",
    "print('Test Loss: ',  test_loss)\n",
    "print('Test Accuracy: ',  test_acc)"
   ]
  },
  {
   "cell_type": "code",
   "execution_count": 12,
   "metadata": {},
   "outputs": [
    {
     "data": {
      "text/plain": [
       "<matplotlib.image.AxesImage at 0x7f305b2fe980>"
      ]
     },
     "execution_count": 12,
     "metadata": {},
     "output_type": "execute_result"
    },
    {
     "data": {
      "image/png": "[encoded data removed]",
      "text/plain": [
       "<Figure size 432x288 with 1 Axes>"
      ]
     },
     "metadata": {
      "needs_background": "light"
     },
     "output_type": "display_data"
    }
   ],
   "source": [
    "img = X_test[5]\n",
    "plt.imshow(img)"
   ]
  },
  {
   "cell_type": "code",
   "execution_count": 13,
   "metadata": {},
   "outputs": [
    {
     "data": {
      "text/plain": [
       "(1, 28, 28, 1)"
      ]
     },
     "execution_count": 13,
     "metadata": {},
     "output_type": "execute_result"
    }
   ],
   "source": [
    "img = np.expand_dims(img, axis=0)\n",
    "img.shape"
   ]
  },
  {
   "cell_type": "code",
   "execution_count": 14,
   "metadata": {},
   "outputs": [
    {
     "name": "stdout",
     "output_type": "stream",
     "text": [
      "1/1 [==============================] - 0s 95ms/step\n"
     ]
    },
    {
     "data": {
      "text/plain": [
       "1"
      ]
     },
     "execution_count": 14,
     "metadata": {},
     "output_type": "execute_result"
    }
   ],
   "source": [
    "np.argmax(model.predict(img))"
   ]
  }
 ],
 "metadata": {
  "kernelspec": {
   "display_name": "test",
   "language": "python",
   "name": "python3"
  },
  "language_info": {
   "codemirror_mode": {
    "name": "ipython",
    "version": 3
   },
   "file_extension": ".py",
   "mimetype": "text/x-python",
   "name": "python",
   "nbconvert_exporter": "python",
   "pygments_lexer": "ipython3",
   "version": "3.10.12"
  }
 },
 "nbformat": 4,
 "nbformat_minor": 2
}
